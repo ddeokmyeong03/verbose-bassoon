{
 "cells": [
  {
   "cell_type": "code",
   "execution_count": 3,
   "metadata": {},
   "outputs": [],
   "source": [
    "# Model 구성\n",
    "import tensorflow as tf\n",
    "from tensorflow import keras\n",
    "\n",
    "# dataset, CV 전처리\n",
    "import zipfile\n",
    "from PIL import Image\n",
    "import os\n",
    "import io\n",
    "import cv2\n",
    "import math\n",
    "import glob\n",
    "from sklearn.model_selection import train_test_split\n",
    "\n",
    "# utils\n",
    "import matplotlib.pyplot as plt\n",
    "import numpy as np\n",
    "import pandas as pd\n",
    "import time\n",
    "import copy"
   ]
  },
  {
   "cell_type": "code",
   "execution_count": 2,
   "metadata": {},
   "outputs": [],
   "source": [
    "zip_path = 'c:/dataseter.zip'"
   ]
  },
  {
   "cell_type": "code",
   "execution_count": 4,
   "metadata": {},
   "outputs": [],
   "source": [
    "# 압축 파일 열기\n",
    "with zipfile.ZipFile(zip_path, 'r') as zip_ref:\n",
    "    # 압축 파일 내의 이미지 파일 목록 가져오기\n",
    "    file_list = [file for file in zip_ref.namelist() if file.endswith('.jpg') or file.endswith('.png')]\n",
    "\n",
    "    # 파일을 하나씩 열고 처리\n",
    "    images = []\n",
    "    labels = []\n",
    "    for file_name in file_list:\n",
    "        # 이미지 파일을 메모리에서 열기\n",
    "        with zip_ref.open(file_name) as file:\n",
    "            img = Image.open(file).convert('L')  # 흑백 변환\n",
    "            img = img.resize((96, 96))  # 크기 조정\n",
    "            images.append(np.array(img) / 255)  # 정규화\n",
    "            # 파일명이나 경로로부터 레이블 추출 (예시)\n",
    "            label = file_name.split('_')[2]  # 파일명에 따라 레이블 추출 방식 조정\n",
    "            labels.append(label)\n"
   ]
  },
  {
   "cell_type": "code",
   "execution_count": null,
   "metadata": {},
   "outputs": [
    {
     "data": {
      "text/plain": [
       "['당황']"
      ]
     },
     "execution_count": 6,
     "metadata": {},
     "output_type": "execute_result"
    }
   ],
   "source": [
    "# 압축 파일 경로\n",
    "zip_file_path = 'D:/CV_project/dataset.zip'\n",
    "\n",
    "# 데이터프레임 생성\n",
    "df = pd.DataFrame(columns=['path', 'label'])\n",
    "\n",
    "# 압축 파일 열기\n",
    "with zipfile.ZipFile(zip_file_path, 'r') as zip_ref:\n",
    "    file_list = [file for file in zip_ref.namelist() if file.endswith('.jpg') or file.endswith('.png')]\n",
    "    \n",
    "    # 파일 경로와 레이블을 추출하여 데이터프레임에 추가\n",
    "    for file in file_list:\n",
    "        label = file.split('_')[2]  # 파일명에서 레이블 추출\n",
    "        path = f\"D:/dataset/{file}\"  # 경로를 지정\n",
    "        df = df.append({'path': path, 'label': label}, ignore_index=True)\n",
    "\n",
    "# CSV 파일로 저장\n",
    "df.to_csv('D:/CV_project/dataset.csv', index=False)"
   ]
  }
 ],
 "metadata": {
  "kernelspec": {
   "display_name": "Python 3",
   "language": "python",
   "name": "python3"
  },
  "language_info": {
   "codemirror_mode": {
    "name": "ipython",
    "version": 3
   },
   "file_extension": ".py",
   "mimetype": "text/x-python",
   "name": "python",
   "nbconvert_exporter": "python",
   "pygments_lexer": "ipython3",
   "version": "3.12.3"
  }
 },
 "nbformat": 4,
 "nbformat_minor": 2
}
